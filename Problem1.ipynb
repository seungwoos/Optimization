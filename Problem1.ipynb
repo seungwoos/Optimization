{
 "cells": [
  {
   "cell_type": "code",
   "execution_count": 1,
   "metadata": {},
   "outputs": [],
   "source": [
    "import cvxpy as cp"
   ]
  },
  {
   "cell_type": "markdown",
   "metadata": {},
   "source": [
    "**Decision variables:**  \n",
    "x1 for investment in saving certificate, x2 for investment in municipal bonds, x3 for investment in stocks"
   ]
  },
  {
   "cell_type": "code",
   "execution_count": 2,
   "metadata": {},
   "outputs": [],
   "source": [
    "x1 = cp.Variable()\n",
    "x2 = cp.Variable()\n",
    "x3 = cp.Variable()"
   ]
  },
  {
   "cell_type": "markdown",
   "metadata": {},
   "source": [
    "**Objective function:**  maximize yearly return, z\n",
    "$$ max (z) = 0.07x_1 +0.09x_2 + 0.14x_3 $$"
   ]
  },
  {
   "cell_type": "code",
   "execution_count": 3,
   "metadata": {},
   "outputs": [],
   "source": [
    "obj_func = cp.Maximize(0.07*x1 + 0.09*x2 + 0.14*x3)"
   ]
  },
  {
   "cell_type": "markdown",
   "metadata": {},
   "source": [
    "**Constraints:**  \n",
    "1. total investment <= 50,000\n",
    "$$ x_1 + x_2 + x_3 \\le 50,000 $$\n",
    "2. investment in bonds >= 10,000\n",
    "$$ x_2 \\ge 10,000 $$\n",
    "3. investment in stocks <= investment in saving certificates + investment in bonds\n",
    "$$ x_3 \\le x_1 + x_2 $$\n",
    "4. limits on investment in savings certificates\n",
    "$$  5,000 \\le x_1 \\le 15,000 $$\n",
    "5. non-negativity constraints\n",
    "$$ x_1, x_2, x_3 \\ge 0 $$"
   ]
  },
  {
   "cell_type": "code",
   "execution_count": 4,
   "metadata": {},
   "outputs": [],
   "source": [
    "const = [x1 + x2 + x3 <= 50000, x2 >= 10000, x3 <= x1 + x2, x1 >= 5000, x1 <= 15000, x1 >= 0, x2 >= 0, x3 >= 0]"
   ]
  },
  {
   "cell_type": "code",
   "execution_count": 5,
   "metadata": {},
   "outputs": [
    {
     "data": {
      "text/plain": [
       "5650.0"
      ]
     },
     "execution_count": 5,
     "metadata": {},
     "output_type": "execute_result"
    }
   ],
   "source": [
    "prob = cp.Problem(obj_func,const)\n",
    "prob.solve(solver=cp.CPLEX)"
   ]
  },
  {
   "cell_type": "code",
   "execution_count": 6,
   "metadata": {},
   "outputs": [
    {
     "name": "stdout",
     "output_type": "stream",
     "text": [
      "The maximum yearly return is $ 5650.0\n",
      "The investment in savings certificate is $ 5000.0\n",
      "The investment in municipal bonds is $ 20000.0\n",
      "The investment in stocks is $ 25000.0\n"
     ]
    }
   ],
   "source": [
    "print(\"The maximum yearly return is $\", prob.value)\n",
    "print(\"The investment in savings certificate is $\", x1.value)\n",
    "print(\"The investment in municipal bonds is $\", x2.value)\n",
    "print(\"The investment in stocks is $\", x3.value)"
   ]
  },
  {
   "cell_type": "code",
   "execution_count": null,
   "metadata": {},
   "outputs": [],
   "source": []
  }
 ],
 "metadata": {
  "kernelspec": {
   "display_name": "Python 3",
   "language": "python",
   "name": "python3"
  },
  "language_info": {
   "codemirror_mode": {
    "name": "ipython",
    "version": 3
   },
   "file_extension": ".py",
   "mimetype": "text/x-python",
   "name": "python",
   "nbconvert_exporter": "python",
   "pygments_lexer": "ipython3",
   "version": "3.6.10"
  }
 },
 "nbformat": 4,
 "nbformat_minor": 4
}
