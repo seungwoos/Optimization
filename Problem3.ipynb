{
 "cells": [
  {
   "cell_type": "code",
   "execution_count": 1,
   "metadata": {},
   "outputs": [],
   "source": [
    "import cvxpy as cp"
   ]
  },
  {
   "cell_type": "markdown",
   "metadata": {},
   "source": [
    "**Decision variables:**  \n",
    "x1: the production quantity of product A, x2: the production quantity of product B, x3: the production quantity of product C, t1: the amount of time on Operation 1, t2: the amount of time on Operation 2"
   ]
  },
  {
   "cell_type": "code",
   "execution_count": 7,
   "metadata": {},
   "outputs": [],
   "source": [
    "x1 = cp.Variable(integer=True)\n",
    "x2 = cp.Variable(integer=True)\n",
    "x3 = cp.Variable(integer=True)\n",
    "t1 = cp.Variable(integer=True)\n",
    "t2 = cp.Variable(integer=True)"
   ]
  },
  {
   "cell_type": "markdown",
   "metadata": {},
   "source": [
    "**Objective function:**  maximize the total profit, z:\n",
    "$$ max (z) = 4x_1 + 10x_2 + 3x_3 $$"
   ]
  },
  {
   "cell_type": "code",
   "execution_count": 8,
   "metadata": {},
   "outputs": [],
   "source": [
    "obj_func = cp.Maximize(4*x1 + 10*x2 + 3*x3)"
   ]
  },
  {
   "cell_type": "markdown",
   "metadata": {},
   "source": [
    "**Constraints:**  \n",
    "1. 2 x amount of product B = amount of product C\n",
    "$$ 2x_2 = x_3 $$\n",
    "$$ x_3 <= 5 $$\n",
    "\n",
    "2. Demand constraints\n",
    "$$ x_1 = 2t_1 + 3t_2 $$\n",
    "$$ x_2 = 2t_1 + 4t_2 $$\n",
    "\n",
    "3. Constraints of available operation times\n",
    "$$ t_1 <= 16, t_2 <= 24$$\n",
    "\n",
    "4. Non-negativity constraints\n",
    "$$ x_1, x_2, x_3, t_1, t_2 >= 0 $$"
   ]
  },
  {
   "cell_type": "code",
   "execution_count": 14,
   "metadata": {},
   "outputs": [],
   "source": [
    "const = [2*x2 == x3, x3 <= 5, x1 == 2*t1 + 3*t2, x2 == 2*t1 + 4*t2, t1 <= 16, t2 <= 24, x1 >= 0, x2 >= 0, x3 >= 0, t1 >= 0, t2 >= 0]"
   ]
  },
  {
   "cell_type": "code",
   "execution_count": 15,
   "metadata": {},
   "outputs": [
    {
     "data": {
      "text/plain": [
       "40.0"
      ]
     },
     "execution_count": 15,
     "metadata": {},
     "output_type": "execute_result"
    }
   ],
   "source": [
    "prob = cp.Problem(obj_func,const)\n",
    "prob.solve(solver=cp.CPLEX)"
   ]
  },
  {
   "cell_type": "code",
   "execution_count": 11,
   "metadata": {},
   "outputs": [
    {
     "name": "stdout",
     "output_type": "stream",
     "text": [
      "The maximum profit is $ 40.0\n",
      "The production quantity of product A is  2.0\n",
      "The production quantity of product B is  2.0\n",
      "The product quantity of by-product C is  4.0\n"
     ]
    }
   ],
   "source": [
    "print(\"The maximum profit is $\", prob.value)\n",
    "print(\"The production quantity of product A is \", x1.value)\n",
    "print(\"The production quantity of product B is \", x2.value)\n",
    "print(\"The product quantity of by-product C is \", x3.value)"
   ]
  },
  {
   "cell_type": "code",
   "execution_count": null,
   "metadata": {},
   "outputs": [],
   "source": []
  }
 ],
 "metadata": {
  "kernelspec": {
   "display_name": "Python 3",
   "language": "python",
   "name": "python3"
  },
  "language_info": {
   "codemirror_mode": {
    "name": "ipython",
    "version": 3
   },
   "file_extension": ".py",
   "mimetype": "text/x-python",
   "name": "python",
   "nbconvert_exporter": "python",
   "pygments_lexer": "ipython3",
   "version": "3.6.10"
  }
 },
 "nbformat": 4,
 "nbformat_minor": 4
}
