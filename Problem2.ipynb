{
 "cells": [
  {
   "cell_type": "code",
   "execution_count": 34,
   "metadata": {},
   "outputs": [],
   "source": [
    "import cvxpy as cp\n",
    "import numpy as np"
   ]
  },
  {
   "cell_type": "markdown",
   "metadata": {},
   "source": [
    "**Decision variables:**  \n",
    "xij: the amount of items shipped from warehouse i to retail outlet j"
   ]
  },
  {
   "cell_type": "code",
   "execution_count": 33,
   "metadata": {},
   "outputs": [],
   "source": [
    "xij = cp.Variable((3, 5)) # 3 by 5 matrix for decision variables\n",
    "A = np.array([[7, 9, 4], [3, 5, 6], [8, 6, 9], [4, 3, 6], [0, 0, 0]]) # 5 by 3 matrix for unit shipping cost\n",
    "warehouse = np.array([1, 1, 1, 1, 1], )\n",
    "outlet = np.array([1, 1, 1])\n",
    "b1 = np.array([6000, 9000, 4000])\n",
    "b2 = np.array([3900, 5200, 2700, 6400, 800])"
   ]
  },
  {
   "cell_type": "markdown",
   "metadata": {},
   "source": [
    "**Objective function:**  minimize total shipping cost, z\n",
    "$$ min (z) = \\sum_{i=1}^{3} a_i \\cdot x_i $$\n",
    "where each ai and xi represents ith column vector from A and xij"
   ]
  },
  {
   "cell_type": "code",
   "execution_count": 22,
   "metadata": {},
   "outputs": [],
   "source": [
    "obj_func = cp.Minimize(cp.sum(cp.diag(A*xij)))"
   ]
  },
  {
   "cell_type": "markdown",
   "metadata": {},
   "source": [
    "**Constraints:**  \n",
    "1. 3 warehouse constraints\n",
    "$$ x_{11} + x_{12} + x_{13} + x_{14} + x_{15} = 6000 $$\n",
    "$$ x_{21} + x_{22} + x_{23} + x_{24} + x_{25} = 9000 $$\n",
    "$$ x_{31} + x_{32} + x_{33} + x_{34} + x_{35} = 4000 $$\n",
    "\n",
    "2. 5 retail outlet c onstraints\n",
    "$$ x_{11} + x_{21} + x_{31} = 3900 $$\n",
    "$$ x_{12} + x_{22} + x_{32} = 5200 $$\n",
    "$$ x_{13} + x_{23} + x_{33} = 2700 $$\n",
    "$$ x_{14} + x_{24} + x_{34} = 6400 $$\n",
    "$$ x_{15} + x_{25} + x_{35} = 800 $$\n",
    "\n",
    "3. non-negativity constraints\n",
    "$$ x_{ij} \\ge 0, i = 1 \\cdots 3,  j = 1 \\cdots 5 $$"
   ]
  },
  {
   "cell_type": "code",
   "execution_count": 23,
   "metadata": {},
   "outputs": [],
   "source": [
    "const = [xij*warehouse == b1, outlet*xij == b2, xij >= 0]"
   ]
  },
  {
   "cell_type": "code",
   "execution_count": 24,
   "metadata": {},
   "outputs": [
    {
     "data": {
      "text/plain": [
       "66700.0"
      ]
     },
     "execution_count": 24,
     "metadata": {},
     "output_type": "execute_result"
    }
   ],
   "source": [
    "prob = cp.Problem(obj_func,const)\n",
    "prob.solve(solver=cp.CPLEX)"
   ]
  },
  {
   "cell_type": "code",
   "execution_count": 32,
   "metadata": {},
   "outputs": [
    {
     "name": "stdout",
     "output_type": "stream",
     "text": [
      "Total minimum shipping cost is $ 66700.0\n",
      "The amount of items shipped from warehouse  1  to retail outlet  1  is  0.0\n",
      "The amount of items shipped from warehouse  1  to retail outlet  2  is  5200.0\n",
      "The amount of items shipped from warehouse  1  to retail outlet  3  is  0.0\n",
      "The amount of items shipped from warehouse  1  to retail outlet  4  is  100.0\n",
      "The amount of items shipped from warehouse  1  to retail outlet  5  is  700.0\n",
      "The amount of items shipped from warehouse  2  to retail outlet  1  is  0.0\n",
      "The amount of items shipped from warehouse  2  to retail outlet  2  is  0.0\n",
      "The amount of items shipped from warehouse  2  to retail outlet  3  is  2700.0\n",
      "The amount of items shipped from warehouse  2  to retail outlet  4  is  6300.0\n",
      "The amount of items shipped from warehouse  2  to retail outlet  5  is  0.0\n",
      "The amount of items shipped from warehouse  3  to retail outlet  1  is  3900.0\n",
      "The amount of items shipped from warehouse  3  to retail outlet  2  is  0.0\n",
      "The amount of items shipped from warehouse  3  to retail outlet  3  is  0.0\n",
      "The amount of items shipped from warehouse  3  to retail outlet  4  is  0.0\n",
      "The amount of items shipped from warehouse  3  to retail outlet  5  is  100.0\n"
     ]
    }
   ],
   "source": [
    "print(\"Total minimum shipping cost is $\", prob.value)\n",
    "for i in range(1, 4):\n",
    "    for j in range(1, 6):\n",
    "        print(\"The amount of items shipped from warehouse \", i, \" to retail outlet \", j, \" is \", xij[i-1][j-1].value)"
   ]
  }
 ],
 "metadata": {
  "kernelspec": {
   "display_name": "Python 3",
   "language": "python",
   "name": "python3"
  },
  "language_info": {
   "codemirror_mode": {
    "name": "ipython",
    "version": 3
   },
   "file_extension": ".py",
   "mimetype": "text/x-python",
   "name": "python",
   "nbconvert_exporter": "python",
   "pygments_lexer": "ipython3",
   "version": "3.6.10"
  }
 },
 "nbformat": 4,
 "nbformat_minor": 4
}
